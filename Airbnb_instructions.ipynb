{
 "cells": [
  {
   "cell_type": "markdown",
   "metadata": {},
   "source": [
    "# Exploring AirBnB in Athens\n",
    "\n",
    "A lot has been said and written about the effect of AirBnB in Athens. In this assignment, you will use the data collected by [Inside AirBnB](http://insideairbnb.com), so you can go ahead and download the Athens data from http://insideairbnb.com/get-the-data.html.\n",
    "\n",
    "Once you do that, spend some time familiarizing yourself with the data and then go ahead and do the following tasks."
   ]
  },
  {
   "cell_type": "markdown",
   "metadata": {},
   "source": [
    "## Neighbourhood Listings in Descending Order\n",
    "\n",
    "Show the listings per neighbourghood, with the most popular neighbourhoods first (that is, in decreasing neighbourhood popularity order)."
   ]
  },
  {
   "cell_type": "markdown",
   "metadata": {},
   "source": [
    "## Neighbourhood Prices in Descending Order\n",
    "\n",
    "Create a table with the prices per neighbourhood. The prices information should contain:\n",
    "\n",
    "* median price per neighbourhood\n",
    "\n",
    "* mean price per neighbourhood\n",
    "\n",
    "* standard deviation per neighbourhood\n",
    "\n",
    "* number of listings per neighbourhood.\n",
    "\n",
    "The contents of the table should be in descending median prices."
   ]
  },
  {
   "cell_type": "markdown",
   "metadata": {},
   "source": [
    "## Availability per Day\n",
    "\n",
    "Create a plot with the number of listings available per day, on the $y$ axis, and the date, on the $x$ axis."
   ]
  },
  {
   "cell_type": "markdown",
   "metadata": {},
   "source": [
    "## Reviews, Occupacy per Listing, Average Income\n",
    "\n",
    "Create a histogram showing the number of reviews per listing. The histogram should bin the number of reviews, from the smallest amount of reviews in a listing, to the maximum number of reviews in a listing rounded up to the closest hundred.\n",
    "\n",
    "Once you have done that, calculate the average occupacy per listing per month. To calculate that, find the average reviews per month and assume that half of the bookings result in reviews.\n",
    "\n",
    "Then, assuming that each booking is for a three nights stay, calculate the average income per month, using the average price charged throughout all listings."
   ]
  },
  {
   "cell_type": "markdown",
   "metadata": {},
   "source": [
    "## Listings per Room Type\n",
    "\n",
    "Show the number of listings per room type, in absolute numbers, and also in percentages (the percentage of listings for each particular room type). Then, show the number of listings per neighrbourhood and room type."
   ]
  },
  {
   "cell_type": "markdown",
   "metadata": {},
   "source": [
    "## Prices per Day\n",
    "\n",
    "Create a table with the average price per listing per day. Draw a graph visualizing the table."
   ]
  },
  {
   "cell_type": "markdown",
   "metadata": {},
   "source": [
    "## Listings per Host\n",
    "\n",
    "Create a table with the number of listings per host, in descending order. Create a graph that will show the distribution of listings per host, as follows:\n",
    "\n",
    "* You will rank the host on a number of listings basis. So, the first host will be the one with the largest number of listings, the second host will be the one with the second largest number of listings, etc. If there is a number of hosts with the same listings, just add them in sequence. For instance, if there are 10 hosts with one listing each, add them in the ranking with any order between them.\n",
    "\n",
    "* On the $y$ axis you will have the number of listings.\n",
    "\n",
    "That is, a point $(x, y)$ will mean that the $x$-th highest hosting host has $y$ listings.\n",
    "\n",
    "After you have drawn the plot, do another one, this time with the $x$ axis in *logarithmic* scale."
   ]
  },
  {
   "cell_type": "markdown",
   "metadata": {},
   "source": [
    "## Visualize Listings\n",
    "\n",
    "Draw an interactive map to show the listings ovelayed on Athens.\n",
    "\n",
    "You can use the [folium](https://github.com/python-visualization/folium) library to create your map; spend some time reading the documentation.\n",
    "\n",
    "The map should show each listing and on clicking on top of it, the user should see a short description of the listing.\n",
    "\n",
    "Note that such a map is heavy on resources. You will probably *not* be able to include it in a Jupyter notebook, so you should save it to an external HTML file that can be opened by any browser. Also, to make things easier, you make wish to limit the maximum zoom level from 12 to 15 (after you read folium's documentation you will know what this is).\n",
    "\n",
    "Hint: be careful witht he description data, if they contain some characters they may not be rendered in HTML and may destroy your output."
   ]
  },
  {
   "cell_type": "markdown",
   "metadata": {},
   "source": [
    "## Submission Instructions\n",
    "\n",
    "You must submit your assignment as a Jupyter notebook that will contain the full code and documentation of how you solved the questions, plus the HTML file containing the visualization of the last question. The Jupyter notebook must be fully replicable: that is, somebody reading it must be able to do exactly what you did and obtain the same results.\n",
    "\n",
    "The documentation must be at the level where somebody that has some Pandas and Python knowledge can understand exactly what you are doing and why. Your output must be as user-friendly as possible. That means that your output tables should not include zillions of columns that are not needed for your analysis."
   ]
  },
  {
   "cell_type": "markdown",
   "metadata": {},
   "source": [
    "## Honor Code\n",
    "\n",
    "You understand that this is an individual assignment, and as such you must carry it out alone. You may seek help on the Internet, by Googling or searching in StackOverflow for general questions pertaining to the use of Python and pandas libraries and idioms. However, it is not right to ask direct questions that relate to the assignment and where people will actually solve your problem by answering them. You may discuss with your colleagues in order to better understand the questions, if they are not clear enough, but you should not ask them to share their answers with you, or to help you by giving specific advice."
   ]
  }
 ],
 "metadata": {
  "kernelspec": {
   "display_name": "Python 3",
   "language": "python",
   "name": "python3"
  },
  "language_info": {
   "codemirror_mode": {
    "name": "ipython",
    "version": 3
   },
   "file_extension": ".py",
   "mimetype": "text/x-python",
   "name": "python",
   "nbconvert_exporter": "python",
   "pygments_lexer": "ipython3",
   "version": "3.7.6"
  }
 },
 "nbformat": 4,
 "nbformat_minor": 2
}
